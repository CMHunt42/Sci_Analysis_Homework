{
 "cells": [
  {
   "cell_type": "markdown",
   "metadata": {},
   "source": [
    "# Lecture 17 - Number Representation and Precision + HW 7"
   ]
  },
  {
   "cell_type": "markdown",
   "metadata": {},
   "source": [
    "#### Real numbers are stored with a decimal precision (or mantissa) and the decimal exponent range. The mantissa contains the significant figures of the number (and thereby the precision of the number). A number like (9.90625)10 in the decimal representation is given in a binary representation by\n",
    "\n",
    "(1001.11101)$_2$ = $1\\times2^3 +0\\times2^2 +0\\times2^1 +1\\times2^0 +1\\times2^{−1} +1\\times2^{−2} +1\\times2^{−3} +0\\times2^{−4} +1 \\times 2^{−5}$\n",
    "\n",
    "and it has an exact machine number representation since we need a finite number of bits to represent this number. This representation is however not very practical. Rather, we prefer to use a scientific notation. In the decimal system we would write a number like 9.90625 in what is called the normalized scientific notation. This means simply that the decimal point is shifted and appropriate powers of 10 are supplied. Our number could then be written as\n",
    "$9.90625 = 0.990625 \\times 10^1$,\n",
    "and a real non-zero number could be generalized as\n",
    "$x = \\pm r \\times 10^n$,\n",
    "with a $r$ a number in the range $1/10 \\le r < 1$. In a similar way we can represent a binary number in\n",
    "scientific notation as\n",
    "$x = \\pm q \\times 2^m$,\n",
    "with a $q$ a number in the range $1/2 \\le q < 1$."
   ]
  },
  {
   "cell_type": "markdown",
   "metadata": {},
   "source": [
    "In a typical computer, floating-point numbers are represented in the way described above, but with certain restrictions on q and m imposed by the available word length. In the machine, our number x is represented as\n",
    "\n",
    "$x = (−1)^s \\times mantissa \\times 2^{exponent}$\n",
    "\n",
    "where $s$ is the sign bit, and the exponent gives the available range. With a single-precision word, 32 bits, 8 bits would typically be reserved for the exponent, 1 bit for the sign and 23 for the mantissa. "
   ]
  },
  {
   "cell_type": "markdown",
   "metadata": {},
   "source": [
    "## 32-bit – single precision (old computers):\n",
    "\n",
    "Sign bit: 1 bit\n",
    "\n",
    "Exponent: 8 bits\n",
    "\n",
    "Significand precision: 24 bits (23 explicitly stored)\n",
    "\n",
    "This gives 6–9 significant decimal digits precision!"
   ]
  },
  {
   "cell_type": "markdown",
   "metadata": {},
   "source": [
    "## 64-bit = double precision (normal modern computers):\n",
    "\n",
    "Sign bit: 1 bit\n",
    "\n",
    "Exponent: 11 bits\n",
    "\n",
    "Significand precision: 53 bits (52 explicitly stored)\n",
    "\n",
    "This gives 15–17 significant decimal digits precision.\n",
    "This the the Python default standard\n"
   ]
  },
  {
   "cell_type": "markdown",
   "metadata": {},
   "source": [
    "## 128-bit = quadruple precision:\n",
    "\n",
    "Sign bit: 1 bit\n",
    "\n",
    "Exponent: 15 bits\n",
    "\n",
    "Significand precision: 113 bits (112 explicitly stored)\n",
    "\n",
    "This gives 33–36 significant decimal digits precision.\n"
   ]
  },
  {
   "cell_type": "markdown",
   "metadata": {},
   "source": [
    "## 256-bit – Octuple precision:\n",
    "\n",
    "Sign bit: 1 bit\n",
    "    \n",
    "Exponent: 19 bits\n",
    "    \n",
    "Significand precision: 237 bits (236 explicitly stored)\n",
    "\n",
    "THIS IS RARELY IMPLEMENTED\n",
    "\n",
    "\n"
   ]
  },
  {
   "cell_type": "markdown",
   "metadata": {},
   "source": [
    "__Throrecticcaly the Maximum unsigned integer is:__ 115792089237316195423570985008687907853269984665640564039457584007913129639935\n"
   ]
  },
  {
   "cell_type": "code",
   "execution_count": 11,
   "metadata": {},
   "outputs": [
    {
     "ename": "ValueError",
     "evalue": "Exceeds the limit (4300 digits) for integer string conversion; use sys.set_int_max_str_digits() to increase the limit",
     "output_type": "error",
     "traceback": [
      "\u001b[1;31m---------------------------------------------------------------------------\u001b[0m",
      "\u001b[1;31mValueError\u001b[0m                                Traceback (most recent call last)",
      "Cell \u001b[1;32mIn[11], line 2\u001b[0m\n\u001b[0;32m      1\u001b[0m a \u001b[38;5;241m=\u001b[39m \u001b[38;5;241m2\u001b[39m\u001b[38;5;241m*\u001b[39m\u001b[38;5;241m*\u001b[39m\u001b[38;5;241m10000000\u001b[39m\n\u001b[1;32m----> 2\u001b[0m \u001b[38;5;28mprint\u001b[39m(a\u001b[38;5;241m+\u001b[39m\u001b[38;5;241m1\u001b[39m)\n",
      "\u001b[1;31mValueError\u001b[0m: Exceeds the limit (4300 digits) for integer string conversion; use sys.set_int_max_str_digits() to increase the limit"
     ]
    }
   ],
   "source": [
    "a = 2**10000000\n",
    "if a > \n",
    "print('no limit')"
   ]
  },
  {
   "cell_type": "code",
   "execution_count": null,
   "metadata": {},
   "outputs": [],
   "source": [
    "print(a*2)"
   ]
  },
  {
   "cell_type": "markdown",
   "metadata": {},
   "source": [
    "_**Python 3 has NO real interger limit length!!**_ "
   ]
  },
  {
   "cell_type": "markdown",
   "metadata": {},
   "source": [
    "# Precision effects"
   ]
  },
  {
   "cell_type": "markdown",
   "metadata": {},
   "source": [
    "One important consequence of rounding error is that you should **NEVER Use an if statment to test equality of two floats.**  For instance, you should nerev, in any program, have a statment like:"
   ]
  },
  {
   "cell_type": "code",
   "execution_count": 13,
   "metadata": {},
   "outputs": [
    {
     "name": "stdout",
     "output_type": "stream",
     "text": [
      "What is x really : 3.3000000000000003\n"
     ]
    }
   ],
   "source": [
    "x = 3 * 1.1\n",
    "if x == 3.3:\n",
    "    print(\"x = \",x,\"and we have trigged the proper logic\")\n",
    "else:\n",
    "    print(\"What is x really :\", x)"
   ]
  },
  {
   "cell_type": "markdown",
   "metadata": {},
   "source": [
    "If you need to do a logic trigger based on a float:"
   ]
  },
  {
   "cell_type": "code",
   "execution_count": 15,
   "metadata": {},
   "outputs": [
    {
     "name": "stdout",
     "output_type": "stream",
     "text": [
      "x =  3.3000000000000003 and we have trigged the proper logic\n"
     ]
    }
   ],
   "source": [
    "epsilon = 1e-12\n",
    "if abs(x-3.3) < epsilon:\n",
    "    print(\"x = \",x,\"and we have trigged the proper logic\")\n",
    "else:\n",
    "    print(\"what is x really :\", x)"
   ]
  },
  {
   "cell_type": "markdown",
   "metadata": {},
   "source": [
    "## Which operations are most important in dealing with precision?\n",
    "\n",
    "__Subtraction__ and __Derivatives__"
   ]
  },
  {
   "cell_type": "markdown",
   "metadata": {},
   "source": [
    "## Subtraction\n",
    "\n",
    "a = b - c\n",
    "\n",
    "We have:   $fl(a) = fl(b) - fl(c) = a(1+\\epsilon_a)$  or\n",
    "            $fl(a) = b(1+\\epsilon_b) - c(1+\\epsilon_c)$\n",
    "            \n",
    "So, $fl(a)/a = 1 + \\epsilon_b (b/a) - \\epsilon_c (c/a)$\n",
    "\n",
    "IF $b \\sim c$, we have the potential of increased error on $fl(a)$\n",
    "\n",
    "\n",
    "If we have:\n",
    "\n",
    "$x = 1000000000000000$\n",
    "\n",
    "$y = 1000000000000001.2345678901234$\n",
    "\n",
    "as far the computer is concerned:\n",
    "    "
   ]
  },
  {
   "cell_type": "code",
   "execution_count": 1,
   "metadata": {},
   "outputs": [
    {
     "name": "stdout",
     "output_type": "stream",
     "text": [
      "1.25\n"
     ]
    }
   ],
   "source": [
    "x = 1000000000000000.0000000000000\n",
    "y = 1000000000000001.2345678901234\n",
    " \n",
    "print(y-x) \n"
   ]
  },
  {
   "cell_type": "markdown",
   "metadata": {},
   "source": [
    "**The true result should be 1.2345678901234!**\n",
    "\n",
    "In other words, instead of 16-figure accuracy we now only have three figures and the fractional error is a few percent of the true value.  This is much worse than before!\n",
    "\n",
    "\n",
    "To see another exanple of this in practice, consider two numbers:\n",
    "\n",
    "$x = 1$, and $ y = 1+10^{-14}\\sqrt 2$ \n",
    "\n",
    "Simply we can see that:\n",
    "\n",
    "$ 10^{14} (y - x) = \\sqrt 2$\n",
    "\n",
    "Let us try the same calculation in python:\n",
    " "
   ]
  },
  {
   "cell_type": "code",
   "execution_count": 3,
   "metadata": {},
   "outputs": [
    {
     "name": "stdout",
     "output_type": "stream",
     "text": [
      "1.4210854715202004\n",
      "1.4142135623730951\n",
      "Difference is: 0.006871909147105226\n"
     ]
    }
   ],
   "source": [
    "from math import sqrt\n",
    "x = 1.0\n",
    "y = 1.0 + (1e-14)*sqrt(2)\n",
    "\n",
    "print((1e14)*(y-x))\n",
    "print(sqrt(2))\n",
    "print(\"Difference is:\",(1e14)*(y-x)-sqrt(2))\n"
   ]
  },
  {
   "cell_type": "markdown",
   "metadata": {},
   "source": [
    "Again error off by a percent.  We need to be careful in how we code math!"
   ]
  },
  {
   "cell_type": "markdown",
   "metadata": {},
   "source": [
    "__Many Representations in math are broken down into series that are summed up.__  \n",
    "\n",
    "One tool to modify variable in python is used to do so, typically in loops.\n",
    "\n",
    "For example:  \n",
    "\n",
    "`m = m + 2` can be written in python as `m += 2`\n",
    "\n",
    "`n = n - 3` can be written in python as `n -= 3`\n",
    "\n",
    "`j = j * 4` can be written in python as `j *= 4`\n",
    "\n",
    "`k = k / 5` can be written in python as `k /= 5`"
   ]
  },
  {
   "cell_type": "code",
   "execution_count": 6,
   "metadata": {},
   "outputs": [
    {
     "name": "stdout",
     "output_type": "stream",
     "text": [
      "Number = 10\n",
      "Divided by 2 now Number = 5.0\n",
      "Divided by 3 now Number = 1.6666666666666667\n",
      "Divided by 4 now Number = 0.4166666666666667\n",
      "Divided by 5 now Number = 0.08333333333333334\n",
      "Divided by 6 now Number = 0.01388888888888889\n",
      "Divided by 7 now Number = 0.0019841269841269845\n",
      "Divided by 8 now Number = 0.00024801587301587306\n",
      "Divided by 9 now Number = 2.7557319223985896e-05\n",
      "Divided by 10 now Number = 2.7557319223985897e-06\n",
      "Divided by 11 now Number = 2.5052108385441723e-07\n"
     ]
    }
   ],
   "source": [
    "import numpy as np\n",
    "number = 10\n",
    "print(\"Number =\", number)\n",
    "for g in (np.arange(10)+2):\n",
    "    number /= g\n",
    "    print(\"Divided by\",g,\"now Number =\",number)\n"
   ]
  },
  {
   "cell_type": "markdown",
   "metadata": {},
   "source": [
    "## Example 1:  Summing $1/n$ \n",
    "\n",
    "Consider the series:\n",
    "\n",
    "$$s_1 = \\sum_{n=1}^N \\frac{1}{n}$$ which is finite when N is finite, then consider\n",
    "\n",
    "$$s_2 = \\sum_{n=N}^1 \\frac{1}{n}$$ which when summed analyitically should give $s_2 = s_1$"
   ]
  },
  {
   "cell_type": "markdown",
   "metadata": {},
   "source": [
    "__Write a code to perform both of these to sums for N = 1e8 and compare the results__"
   ]
  },
  {
   "cell_type": "code",
   "execution_count": 17,
   "metadata": {},
   "outputs": [
    {
     "name": "stdout",
     "output_type": "stream",
     "text": [
      "18.997896413852555 18.997896413853447 Diff: -8.917311333789257e-13\n"
     ]
    }
   ],
   "source": [
    "import numpy as np\n",
    "\n",
    "s1, s2 = 0, 0\n",
    "\n",
    "for n in np.arange(10**8) + 1:\n",
    "    s1 += (1/n)\n",
    "\n",
    "for n in np.linspace(10**8, 1, 10**8):\n",
    "    s2 += (1/n)\n",
    "\n",
    "print(s1, s2, \"Diff:\", s1-s2)\n"
   ]
  },
  {
   "cell_type": "markdown",
   "metadata": {},
   "source": [
    "## Homework #7: Write functions for solving $e^{-x}$\n",
    "\n",
    "**REMINDER:** *All coding assignment will be turned in as .ipynb files, to the same PHYS_X0223 repository on GitHub.*   \n",
    "*They should be turned in with the following naming:*\n",
    "    \n",
    "    Lastname_Firstinitial_23_HW#.ipynb\n",
    "    "
   ]
  },
  {
   "cell_type": "markdown",
   "metadata": {},
   "source": [
    "\n",
    "\n",
    "There are three possible algorithms for computing $e^{-x}$\n",
    "\n",
    "1) **Simple:** Direct formula for $e^{-x}$  $$e^{-x} = \\sum_{n=0}^{\\infty} (-1)^n \\; \\frac{x^n}{n!}$$  \n",
    "\n",
    "\n",
    "2) **Inverse:** Formula for $1/e^{x}$: $$e^{x} = {\\sum_{n=0}^{\\infty} \\frac{x^n}{n!}}$$  Then take the inverse:   $$e^{-x} = \\frac{1}{e^{x}}$$\n",
    "\n",
    "\n",
    "3) **Recursion: (see example below)** based on direct formula $$e^{-x} = \\sum_{n=0}^{\\infty} s_n = \\sum_{n=0}^{\\infty} (-1)^n \\; \\frac{x^n}{n!}$$  where  $$ s_n = -s_{n-1} \\frac{x}{n}$$ and $$s_0 = 1$$\n",
    "\n",
    "\n",
    "__Your assignment:__\n",
    "\n",
    "1) Write a three functions to compute e^(-x), one foreach of the three methods above.  Start first with 20 terms of the summation (e.g., n = 20), but try more or less terms to see if you get a better answer. \n",
    "\n",
    "2) Then check their output for x = 1 - 100, in steps of 10. \n",
    "\n",
    "3) Compare all three caluculation to the numpy version of exp(-x) which is imported above. \n",
    "\n",
    "**(NOTE: They SHOULD NOT give the same answer due to Preciscion Effects!!)**\n"
   ]
  },
  {
   "cell_type": "code",
   "execution_count": 163,
   "metadata": {},
   "outputs": [
    {
     "name": "stdout",
     "output_type": "stream",
     "text": [
      "'x' simple inverse recurse NumPy\n",
      "--- ------ ------- ------- -----\n",
      "10 , 4.5399929433607724e-05 , 4.539992976248486e-05 , 4.539992967040021e-05 , 4.5399929762484854e-05\n",
      "3.2887713006472113e-13 , -6.776263578034403e-21 , 9.208464475966502e-14 ,\n",
      "20 , 5.47810291652921e-10 , 2.0611536224385583e-09 , 6.147561828914626e-09 , 2.061153622438558e-09\n",
      "1.513343330785637e-09 , -4.1359030627651384e-25 , -4.0864082064760686e-09 ,\n",
      "30 , -8.553016433669241e-05 , 9.357622968840171e-14 , 6.1030424788918156e-06 , 9.357622968840175e-14\n",
      "8.553016443026864e-05 , 3.7865323450608567e-29 , -6.103042385315586e-06 ,\n",
      "40 , 0.1470264494805502 , 4.24835425529159e-18 , 0.3116951588217358 , 4.248354255291589e-18\n",
      "-0.1470264494805502 , -7.703719777548943e-34 , -0.3116951588217358 ,\n",
      "50 , -7015.776232597128 , 1.9287498479639164e-22 , 2041.8329628976246 , 1.9287498479639178e-22\n",
      "7015.776232597128 , 1.410593220986745e-37 , -2041.8329628976246 ,\n",
      "60 , -1223051118.0619795 , 8.75651076269652e-27 , 722745700.9303185 , 8.75651076269652e-27\n",
      "1223051118.0619795 , 0.0 , -722745700.9303185 ,\n",
      "70 , 15141759713408.848 , 3.975449735908648e-31 , 4594081207253.4 , 3.975449735908647e-31\n",
      "-15141759713408.848 , -8.758115402030107e-47 , -4594081207253.4 ,\n",
      "80 , 6.772465846238849e+17 , 1.8048513878454156e-35 , 2.4508201170456323e+17 , 1.8048513878454153e-35\n",
      "-6.772465846238849e+17 , -2.6727647100921956e-51 , -2.4508201170456323e+17 ,\n",
      "90 , -7.884988118863822e+21 , 8.194012623990511e-40 , -5.865799310261735e+21 , 8.194012623990515e-40\n",
      "7.884988118863822e+21 , 3.2626522339992623e-55 , 5.865799310261735e+21 ,\n",
      "100 , -2.8756582514726483e+26 , 3.7200759760208356e-44 , 8.144652745098073e+25 , 3.720075976020836e-44\n",
      "2.8756582514726483e+26 , 4.9784122222889134e-60 , -8.144652745098073e+25 ,\n"
     ]
    }
   ],
   "source": [
    "import numpy as np\n",
    "import math\n",
    "\n",
    "# write a function to compute e^(-x) for all three methods \n",
    "# Then check their output for x = 1 - 101, in steps of 10 and \n",
    "# Compare to the numpy version of exp(-x) which is imported above. \n",
    "def e_minusx_simple(x):\n",
    "    emxsmp = 0\n",
    "    for i in range(2500):\n",
    "        emxsmp += ((-1*x)**i)/(math.factorial(i))\n",
    "    return emxsmp\n",
    "\n",
    "def e_minusx_inverse(x):\n",
    "    emxinv = 0\n",
    "    for i in range(2500):\n",
    "        emxinv += (x**i)/(math.factorial(i))\n",
    "    emxinv = 1/emxinv\n",
    "    return emxinv\n",
    "\n",
    "# note use a function for s_n (See example below)\n",
    "def sum_at_n(n,x):\n",
    "    if n == 0:\n",
    "        return 1\n",
    "    else:\n",
    "        return -1 * sum_at_n(n-1,x) * (x/n)\n",
    "\n",
    "\n",
    "def e_minusx_recurse(x):\n",
    "    emxrec = 0\n",
    "    for i in range(2500):\n",
    "        emxrec += sum_at_n(i,x)  \n",
    "    return emxrec\n",
    "\n",
    "\n",
    "# HERE IS THE DEFAULT PRINT STATEMENT TO TEST YOUR OUTPUT (modify when you check x 1-101) \n",
    "print(\"'x' simple inverse recurse NumPy\")\n",
    "print(\"--- ------ ------- ------- -----\")\n",
    "for k in [10, 20, 30, 40, 50, 60, 70, 80, 90, 100]:\n",
    "    print(k,\",\", e_minusx_simple(k),\",\", e_minusx_inverse(k),\",\", e_minusx_recurse(k),\",\", np.exp(-1*k))\n",
    "    print(np.exp(-1*k) - e_minusx_simple(k),\",\", np.exp(-1*k) - e_minusx_inverse(k),\",\", np.exp(-1*k) - e_minusx_recurse(k),\",\")\n",
    "\n",
    "#print(\"\\n NOTE: '-9999' means not written yet.\")"
   ]
  },
  {
   "cell_type": "markdown",
   "metadata": {},
   "source": [
    "### Recursion Example"
   ]
  },
  {
   "cell_type": "code",
   "execution_count": null,
   "metadata": {},
   "outputs": [],
   "source": [
    "def factorial(x):\n",
    "    \"\"\"This is a recursive function to find the factorial of an integer\"\"\"\n",
    "    if x == 1:\n",
    "        return 1\n",
    "    else:\n",
    "        return (x * factorial(x-1)) # the function calls itself here!!\n",
    "# Testing it below.\n",
    "num = 5\n",
    "print(\"The factorial of\", num, \"is\", factorial(num))"
   ]
  },
  {
   "cell_type": "code",
   "execution_count": null,
   "metadata": {},
   "outputs": [],
   "source": []
  }
 ],
 "metadata": {
  "kernelspec": {
   "display_name": "Python 3 (ipykernel)",
   "language": "python",
   "name": "python3"
  },
  "language_info": {
   "codemirror_mode": {
    "name": "ipython",
    "version": 3
   },
   "file_extension": ".py",
   "mimetype": "text/x-python",
   "name": "python",
   "nbconvert_exporter": "python",
   "pygments_lexer": "ipython3",
   "version": "3.12.4"
  }
 },
 "nbformat": 4,
 "nbformat_minor": 4
}
